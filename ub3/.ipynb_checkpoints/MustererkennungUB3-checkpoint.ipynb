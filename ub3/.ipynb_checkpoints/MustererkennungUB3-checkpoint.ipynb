{
 "cells": [
  {
   "cell_type": "markdown",
   "metadata": {},
   "source": [
    "## 1. Aufgabe (5 Punkte):\n",
    "Laden Sie die Dateien chickwts_testing.csv und chickwts_training.csv aus dem Resources Ordner der\n",
    "KVVSeite\n",
    "herunter. Jede Zeile dieser Dateien ist ein Datensatz über ein Huhn mit folgenden Werten: id,\n",
    "Gewicht, Futterart . (Die Futterart ist von 0 bis 5 indiziert und entspricht: 0=horsebean, 1=linseed,\n",
    "2=soybean, 3=sunflower, 4=meatmeal, 5=casein)"
   ]
  },
  {
   "cell_type": "markdown",
   "metadata": {},
   "source": [
    "###### a. (2 Punkte)\n",
    "Berechnen Sie den Erwartungswert und die Varianz über den Gewichten jeweils für\n",
    "alle 6 Futterklassen sowie die Apriori Wahrscheinlichkeit\n",
    "für jede der 6 Futterklassen anhand\n",
    "der Werte aus chickwts_training.csv ."
   ]
  },
  {
   "cell_type": "code",
   "execution_count": 2,
   "metadata": {
    "collapsed": false
   },
   "outputs": [],
   "source": [
    "%matplotlib inline\n",
    "\n",
    "\n",
    "#Read data from csv file in a panda dataframe\n",
    "\n",
    "import pandas as pd \n",
    "import numpy as np\n",
    "\n",
    "path_to_chickwts_testing_csv = \"./Ressources/chickwts_testing.csv\"\n",
    "path_to_chickwts_training_csv = \"./Ressources/chickwts_training.csv\"\n",
    "\n",
    "cw_test_df = pd.read_csv(path_to_chickwts_testing_csv,sep=',', names=[\"weight\"],header=None)\n",
    "cw_training_df = pd.read_csv(path_to_chickwts_training_csv,header=None,names=[\"id\",\"weight\",\"class\"])\n"
   ]
  },
  {
   "cell_type": "code",
   "execution_count": 21,
   "metadata": {
    "collapsed": false
   },
   "outputs": [
    {
     "data": {
      "text/html": [
       "<div>\n",
       "<table border=\"1\" class=\"dataframe\">\n",
       "  <thead>\n",
       "    <tr style=\"text-align: right;\">\n",
       "      <th></th>\n",
       "      <th>estimate</th>\n",
       "      <th>variance</th>\n",
       "      <th>std</th>\n",
       "      <th>prior</th>\n",
       "    </tr>\n",
       "    <tr>\n",
       "      <th>class</th>\n",
       "      <th></th>\n",
       "      <th></th>\n",
       "      <th></th>\n",
       "      <th></th>\n",
       "    </tr>\n",
       "  </thead>\n",
       "  <tbody>\n",
       "    <tr>\n",
       "      <th>0</th>\n",
       "      <td>165.720000</td>\n",
       "      <td>2080.083265</td>\n",
       "      <td>45.607930</td>\n",
       "      <td>0.140845</td>\n",
       "    </tr>\n",
       "    <tr>\n",
       "      <th>1</th>\n",
       "      <td>217.916667</td>\n",
       "      <td>3864.891243</td>\n",
       "      <td>62.168249</td>\n",
       "      <td>0.169014</td>\n",
       "    </tr>\n",
       "    <tr>\n",
       "      <th>2</th>\n",
       "      <td>244.642857</td>\n",
       "      <td>3631.943064</td>\n",
       "      <td>60.265604</td>\n",
       "      <td>0.197183</td>\n",
       "    </tr>\n",
       "    <tr>\n",
       "      <th>3</th>\n",
       "      <td>325.600000</td>\n",
       "      <td>3248.277966</td>\n",
       "      <td>56.993666</td>\n",
       "      <td>0.169014</td>\n",
       "    </tr>\n",
       "    <tr>\n",
       "      <th>4</th>\n",
       "      <td>281.818182</td>\n",
       "      <td>5336.373737</td>\n",
       "      <td>73.050488</td>\n",
       "      <td>0.154930</td>\n",
       "    </tr>\n",
       "    <tr>\n",
       "      <th>5</th>\n",
       "      <td>326.933333</td>\n",
       "      <td>4829.588701</td>\n",
       "      <td>69.495242</td>\n",
       "      <td>0.169014</td>\n",
       "    </tr>\n",
       "  </tbody>\n",
       "</table>\n",
       "</div>"
      ],
      "text/plain": [
       "         estimate     variance        std     prior\n",
       "class                                              \n",
       "0      165.720000  2080.083265  45.607930  0.140845\n",
       "1      217.916667  3864.891243  62.168249  0.169014\n",
       "2      244.642857  3631.943064  60.265604  0.197183\n",
       "3      325.600000  3248.277966  56.993666  0.169014\n",
       "4      281.818182  5336.373737  73.050488  0.154930\n",
       "5      326.933333  4829.588701  69.495242  0.169014"
      ]
     },
     "execution_count": 21,
     "metadata": {},
     "output_type": "execute_result"
    }
   ],
   "source": [
    "# calculate estimate and variance for each class\n",
    "N =  float(len(cw_training_df))\n",
    "class_dic = {}\n",
    "for clsX in range(6):\n",
    "    clsData = cw_training_df[cw_training_df[\"class\"]==clsX]\n",
    "    class_dic[clsX] = (clsData[\"weight\"].mean(),\n",
    "                       clsData[\"weight\"].var(),\n",
    "                       clsData[\"weight\"].std(),\n",
    "                       float(clsData.size)/cw_training_df.size)\n",
    "class_df = pd.DataFrame.from_dict(class_dic,orient=\"index\")\n",
    "class_df.columns =[\"estimate\",\"variance\",\"std\",\"prior\"]\n",
    "class_df.index.name = \"class\"\n",
    "class_df\n"
   ]
  },
  {
   "cell_type": "markdown",
   "metadata": {},
   "source": [
    "###### b. (1 Punkte)\n",
    "Plotten Sie die Aposteriori Wahrscheinlichkeitsdichtefunktion\n",
    "p(Futterklasse | Gewicht)\n",
    "für alle 6 Futterklassen zusammen in einem Diagramm. Verwenden Sie dabei die Werte aus a)..."
   ]
  },
  {
   "cell_type": "code",
   "execution_count": 86,
   "metadata": {
    "collapsed": false,
    "scrolled": true
   },
   "outputs": [
    {
     "data": {
      "image/png": "[encoded data removed]",
      "text/plain": [
       "<matplotlib.figure.Figure at 0x182051d0>"
      ]
     },
     "metadata": {},
     "output_type": "display_data"
    }
   ],
   "source": [
    "##\n",
    "import matplotlib.pyplot as plt\n",
    "from scipy.stats  import norm\n",
    "\n",
    "cw_data = list(cw_training_df[\"weight\"])\n",
    "cols = ['b','g','r','c','m','y']\n",
    "x = np.linspace(np.min(cw_data),\n",
    "                np.max(cw_data),\n",
    "                np.max(cw_data)-np.min(cw_data))\n",
    "\n",
    "for clsX in range(6):\n",
    "    mean, var, _ , p =  class_df.loc[clsX] \n",
    "    sigma = np.sqrt(var)\n",
    "    \n",
    "    plt.plot(x,norm.pdf(x,mean,sigma)*p,cols[clsX], label = \"Class \" + str(clsX))\n",
    "plt.legend(bbox_to_anchor=(1, 1),loc=0)\n",
    "plt.show()"
   ]
  },
  {
   "cell_type": "markdown",
   "metadata": {},
   "source": [
    "###### c. (2 Punkte)\n",
    "Klassifizieren Sie die Hühner in chickwts_testing.csv mit einem Naive Bayes\n",
    "Klassifikator anhand ihres Gewichtes in die 6 Futterklassen. Verwenden Sie dabei die Werte bzw.\n",
    "Wahrscheinlichkeitsdichtefunktionen aus a) und b). Geben Sie die die Konfusionsmatrix und\n",
    "Klassifikationsgüte aus."
   ]
  },
  {
   "cell_type": "code",
   "execution_count": null,
   "metadata": {
    "collapsed": true
   },
   "outputs": [],
   "source": [
    "##TODO AUFG 3\n",
    "from sklearn.metrics import confusion_matrix\n",
    "\n",
    "\n",
    "\n",
    "#for the confusion matrix\n",
    "y_true = #Fill with stuff\n",
    "y_pred = #\n",
    "confusion_matrix(y_true, y_pred)"
   ]
  },
  {
   "cell_type": "markdown",
   "metadata": {},
   "source": [
    "## 2. Aufgabe (5 Punkte):"
   ]
  },
  {
   "cell_type": "markdown",
   "metadata": {},
   "source": [
    "###### a.  (1 Punkt)\n",
    "Erzeugen Sie drei Klassen von jeweils 100 zweidimensionalen normalverteilten Punkten\n",
    "mit folgenden Mittelwerten und Kovarianzmatrizen:\n",
    "Plotten Sie alle Punkte in einem Diagramm.\n",
    "<img src=\"formeln.png\">\n"
   ]
  },
  {
   "cell_type": "code",
   "execution_count": 88,
   "metadata": {
    "collapsed": false
   },
   "outputs": [
    {
     "data": {
      "image/png": "[encoded data removed]",
      "text/plain": [
       "<matplotlib.figure.Figure at 0x18d9a668>"
      ]
     },
     "metadata": {},
     "output_type": "display_data"
    }
   ],
   "source": [
    "##TODO Aufg a\n",
    "mu1 = np.array([5,10])\n",
    "mu2 = np.array([5,5])\n",
    "mu3 = np.array([10,6])\n",
    "\n",
    "covma1 = np.array([[1,1],[1,1]])\n",
    "covma2 = np.array([[2,-1],[-1,2]])\n",
    "covma3 = np.array([[0.1,0],[0,3]])\n",
    "\n",
    "x1,y1 = np.random.multivariate_normal(mu1,covma1,100).T\n",
    "x2,y2 = np.random.multivariate_normal(mu2,covma2,100).T\n",
    "x3,y3 = np.random.multivariate_normal(mu3,covma3,100).T\n",
    "\n",
    "plt.plot(x1,y1, 'o' + cols[0])\n",
    "plt.plot(x2,y2, 'o' + cols[1])\n",
    "plt.plot(x3,y3, 'o' + cols[2])\n",
    "plt.axis(\"equal\")\n",
    "plt.show()\n",
    "\n",
    "\n",
    "\n"
   ]
  },
  {
   "cell_type": "markdown",
   "metadata": {},
   "source": [
    "###### b. (2 Punkte)\n",
    "Berechnen Sie die tatsächliche Kovarianzmatrix sowie die dazugehörige\n",
    "Korrelationsmatrix (Pearson Korrelationkoeffizienten)\n",
    "für jede der von Ihnen in a) erzeugten\n",
    "Klassen."
   ]
  },
  {
   "cell_type": "code",
   "execution_count": 125,
   "metadata": {
    "collapsed": false
   },
   "outputs": [
    {
     "name": "stdout",
     "output_type": "stream",
     "text": [
      "Covariancematrix: \n",
      "[[ 0.95167543  0.95167543]\n",
      " [ 0.95167543  0.95167543]]\n",
      "Pearson: 1.0\n",
      "\n",
      "\n",
      "Covariancematrix: \n",
      "[[ 1.98248591 -0.89274646]\n",
      " [-0.89274646  1.91884977]]\n",
      "Pearson: -0.457722849712\n",
      "\n",
      "\n",
      "Covariancematrix: \n",
      "[[ 0.09904137 -0.00749058]\n",
      " [-0.00749058  3.196257  ]]\n",
      "Pearson: -0.0133133214526\n",
      "\n",
      "\n"
     ]
    }
   ],
   "source": [
    "##TODO AUFG b\n",
    "from scipy.stats import pearsonr\n",
    "\n",
    "trucov1   = np.cov(x1,y1)\n",
    "trucov2   = np.cov(x2,y2)\n",
    "trucov3   = np.cov(x3,y3)\n",
    "\n",
    "#cov(x,y)/(sigma(x)*sigma(y))\n",
    "pearscov1 = pearsonr(x1,y1)\n",
    "pearscov2 = pearsonr(x2,y2)\n",
    "pearscov3 = pearsonr(x3,y3)\n",
    "\n",
    "\n",
    "print \"Covariancematrix: \\n\" + str(trucov1) + \"\\n\"+\"Pearson: \" + str(pearscov1[0])+\"\\n\\n\"\n",
    "print \"Covariancematrix: \\n\" + str(trucov2) + \"\\n\"+\"Pearson: \" + str(pearscov2[0])+\"\\n\\n\"\n",
    "print \"Covariancematrix: \\n\" + str(trucov3) + \"\\n\"+\"Pearson: \" + str(pearscov3[0])+\"\\n\\n\""
   ]
  },
  {
   "cell_type": "markdown",
   "metadata": {},
   "source": [
    "###### c. (2 Punkte)\n",
    "Generieren sie 1000 zufällige Geraden durch den Ursprung (definiert durch\n",
    "Einheitsvektoren). Berechnen Sie für jede dieser Geraden $u_i$ den Wert\n",
    "$$ S(U_i) = \\frac{\\mbox{Abstand der auf $u_i$ projizierten Mittelwerte}}{\\mbox{Summe der auf $u_i$ projizierten Varianzen}}$$\n",
    "jeweils zwischen den Klassen 1 und 2, 1 und 3 , sowie 2 und 3. Plotten sie die 3 Geraden mit\n",
    "dem jeweils größten S(ui) zusammen mit den Datenpunkten in einem Diagram.\n",
    "\n"
   ]
  },
  {
   "cell_type": "code",
   "execution_count": null,
   "metadata": {
    "collapsed": true
   },
   "outputs": [],
   "source": [
    "##TODO AUFG c\n",
    "from math import pi\n",
    "#generate a random 2d  unit vector \n",
    "def rnd2Dvec():\n",
    "    phi = np.random.uniform(0,2*pi)"
   ]
  },
  {
   "cell_type": "code",
   "execution_count": 126,
   "metadata": {
    "collapsed": false
   },
   "outputs": [
    {
     "name": "stdout",
     "output_type": "stream",
     "text": [
      "3.14159265359\n"
     ]
    }
   ],
   "source": [
    "from math import pi\n",
    "\n",
    "print pi"
   ]
  },
  {
   "cell_type": "code",
   "execution_count": null,
   "metadata": {
    "collapsed": true
   },
   "outputs": [],
   "source": []
  }
 ],
 "metadata": {
  "kernelspec": {
   "display_name": "Python 2",
   "language": "python",
   "name": "python2"
  },
  "language_info": {
   "codemirror_mode": {
    "name": "ipython",
    "version": 2
   },
   "file_extension": ".py",
   "mimetype": "text/x-python",
   "name": "python",
   "nbconvert_exporter": "python",
   "pygments_lexer": "ipython2",
   "version": "2.7.10"
  }
 },
 "nbformat": 4,
 "nbformat_minor": 0
}
