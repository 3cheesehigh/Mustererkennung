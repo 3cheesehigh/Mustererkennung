{
 "cells": [
  {
   "cell_type": "markdown",
   "metadata": {},
   "source": [
    "# Mustererkennung Übung 3\n",
    "### Benjamin Kiesling, Peewee Manzer "
   ]
  },
  {
   "cell_type": "markdown",
   "metadata": {},
   "source": [
    "## 1. Aufgabe (6 Punkte):\n",
    "Gegeben seien folgende Punkte:\n",
    "$(1,-1),(2,1),(4,-1),(5,1)$"
   ]
  },
  {
   "cell_type": "markdown",
   "metadata": {},
   "source": [
    "###### a. (1 Punkt) \n",
    "Bilden Sie den Mittelwert μ der gegebenen Punkte.\n"
   ]
  },
  {
   "cell_type": "markdown",
   "metadata": {},
   "source": [
    "$\\mu = \\left( \\dfrac{1+2+4+5}{4}, \\dfrac{-1+1-1+1}{4} \\right) =(3, 0 )$"
   ]
  },
  {
   "cell_type": "markdown",
   "metadata": {},
   "source": [
    "###### b. (1 Punkt) \n",
    "Berechnen Sie die Kovarianzmatrix C der gegebenen Punkte.\n"
   ]
  },
  {
   "cell_type": "markdown",
   "metadata": {},
   "source": [
    "$Var(x) = Cov(x,x) = \\frac{1}{n} \\sum^n_{i= 1} (x_i - \\mu )^2   = \\dfrac{(1-3)^2 + (2-3)^2 + (4-3)^2 + (5-3)^2}{4}) = \\dfrac{10}{4} = 2.5 $<br\\>\n",
    "$Var(y) = Cov(y,y) = \\frac{1}{n} \\sum^n_{i= 1} (y_i - \\mu )^2  =\\dfrac{(-1-0)^2 + (1-0)^2 + (-1-0)^2 + (1-0)^2}{4})= 1$ <br\\>\n",
    "$Cov(x,y) = Cov(y, x) =  \\frac{1}{n} \\sum^n_{i= 1} (x_i - \\mu_x ) \\cdot (y_i - \\mu_y ) \n",
    "= \\dfrac{(1-3)\\cdot(-1-1)+(2-3)\\cdot(1-1)+(4-3)\\cdot(-1-1)+(5-3)\\cdot(1-1)}{4} \\\\=\\dfrac{4+0-2+0}{4} = 0.5\n",
    "$ <br\\> <br\\>\n",
    "$C =   \\begin{pmatrix}     \\sigma_1^2& c \\\\     c & \\sigma_2^2    \\end{pmatrix} =\n",
    "\\begin{pmatrix}     2.5& 0.5 \\\\     0.5 & 1    \\end{pmatrix}$ <br\\>"
   ]
  },
  {
   "cell_type": "markdown",
   "metadata": {},
   "source": [
    "###### c. (1 Punkt)\n",
    "Berechnen Sie die Eigenwerte λ1 und λ2 , indem Sie die Gleichung det(C− Iλ) = 0 lösen.\n",
    "(I ist die Identitätsmatrix). Geben Sie die einzelnen Schritte der Berechnung an.\n",
    "\n"
   ]
  },
  {
   "cell_type": "markdown",
   "metadata": {},
   "source": [
    "\n",
    "\\begin{align}\n",
    "det(C− I\\lambda) &= 0 \\\\\n",
    "det\\left(\\begin{pmatrix}     2.5& 0.5 \\\\     0.5 & 1    \\end{pmatrix}− \\begin{pmatrix}     1& 0 \\\\     0 & 1    \\end{pmatrix}\\lambda\\right) &= 0 \\\\\n",
    "det\\left(\\begin{pmatrix}     (2.5- \\lambda) & 0.5 \\\\     0.5 & 1 - \\lambda    \\end{pmatrix}\\right)  &= 0 \\\\\n",
    "(2.5 - \\lambda) \\cdot (1-\\lambda) -  0.5 \\cdot 0.5 &= 0 \\\\\n",
    " \\lambda^2 - 3.5 \\lambda + 2.25&= 0\\\\\n",
    "\\end{align}\n",
    "\n",
    "$\\lambda_1 = \\dfrac{7-\\sqrt{13}}{4} \\sim 0.85 \\\\ \\lambda_2 = \\dfrac{7+\\sqrt{13}}{4} \\sim 2.65$\n",
    "\n"
   ]
  },
  {
   "cell_type": "markdown",
   "metadata": {},
   "source": [
    "###### d. (1 Punkt)\n",
    "Geben Sie das durch die Gleichung (C− Iλ) ∙ x = 0 definierte →\n",
    "Gleichungssystem an und berechnen Sie die Eigenvektoren x1 und x2 . Sie müssen das Ergebnis\n",
    "eventuell noch normieren."
   ]
  },
  {
   "cell_type": "markdown",
   "metadata": {},
   "source": [
    "\n",
    "#### 1. $\\lambda_1 = 0.85$\n",
    "\n",
    "  \\begin{align}\n",
    "  (2.5 -0.85 )x + 0.5 y &=0\\\\\n",
    "  0.5x +(1-0.85)y &= 0\n",
    "  \\end{align}\n",
    "\n",
    "  \\begin{align}\n",
    "  1.65 x + 0.5 y &=0\\\\\n",
    "  0.5x +0.15y &= 0\n",
    "  \\end{align}\n",
    "\n",
    "  Setze $y=1$ :\n",
    "\n",
    "  \\begin{align}\n",
    "  1.65 x + 0.5  &=0\\\\\n",
    "  1.65 x        &=-0.5\\\\\n",
    "         x        &=\\dfrac{10}{33} =-0.303  \n",
    "  \\end{align}\n",
    "\n",
    "  Der erste Eigenvektor lautet: $\\begin{pmatrix}-0.303  \\\\1\\end{pmatrix}$\n",
    "\n",
    "\n",
    "#### 2.  $\\lambda_2 = 2.65$\n",
    "\n",
    "  \\begin{align}\n",
    "  (2.5 -2.65 )x + 0.5 y &=0\\\\\n",
    "  0.5x +(1-2.65)y &= 0\n",
    "  \\end{align}\n",
    "\n",
    "  \\begin{align}\n",
    "  -0,15 x + 0.5 y &=0\\\\\n",
    "  0.5x -1.65y &= 0\n",
    "  \\end{align}\n",
    "\n",
    "  Setze $y=1$ :\n",
    "\n",
    "  \\begin{align}\n",
    "  -0,15 x + 0.5  &=0\\\\\n",
    "  -0,15 x        &=-0.5\\\\\n",
    "         x        &=\\dfrac{10}{3} =3.\\bar{3}\n",
    "  \\end{align}\n",
    "\n",
    "  Der zweite Eigenvektor lautet: $\\begin{pmatrix}3.\\bar{3}  \\\\1\\end{pmatrix}$\n",
    "\n"
   ]
  },
  {
   "cell_type": "markdown",
   "metadata": {},
   "source": [
    "###### e. (1 Punkt)\n",
    "Geben Sie die Transformationsmatrix T an, um die Punkte in das durch die\n",
    "Eigenvektoren aufgespannte Koordinatensystem zu transformieren. Transformieren Sie die\n",
    "gegebenen Punkte."
   ]
  },
  {
   "cell_type": "markdown",
   "metadata": {},
   "source": [
    "###### f. (1 Punkt)\n",
    "Geben Sie die Matrix $M = T \\cdot C \\cdot T^T$ an. ( $T^T$ ist T transponiert)"
   ]
  },
  {
   "cell_type": "markdown",
   "metadata": {},
   "source": [
    "## 2. Aufgabe (4 Punkte):\n",
    "Laden Sie die Datei mouse.csv aus dem Resources Ordner der KVV Seite\n",
    "herunter. Jede Zeile dieser\n",
    "Datei ist ein Datensatz, der einen zweidimensionalen Punkt beschreibt: x, y, Klasse ."
   ]
  },
  {
   "cell_type": "code",
   "execution_count": 2,
   "metadata": {
    "collapsed": false
   },
   "outputs": [
    {
     "data": {
      "text/html": [
       "<div>\n",
       "<table border=\"1\" class=\"dataframe\">\n",
       "  <thead>\n",
       "    <tr style=\"text-align: right;\">\n",
       "      <th></th>\n",
       "      <th>x</th>\n",
       "      <th>y</th>\n",
       "      <th>class</th>\n",
       "    </tr>\n",
       "  </thead>\n",
       "  <tbody>\n",
       "    <tr>\n",
       "      <th>0</th>\n",
       "      <td>8.64658</td>\n",
       "      <td>5.23205</td>\n",
       "      <td>1</td>\n",
       "    </tr>\n",
       "    <tr>\n",
       "      <th>1</th>\n",
       "      <td>7.15043</td>\n",
       "      <td>3.66482</td>\n",
       "      <td>1</td>\n",
       "    </tr>\n",
       "    <tr>\n",
       "      <th>2</th>\n",
       "      <td>5.44272</td>\n",
       "      <td>7.88816</td>\n",
       "      <td>1</td>\n",
       "    </tr>\n",
       "    <tr>\n",
       "      <th>3</th>\n",
       "      <td>5.44020</td>\n",
       "      <td>6.53084</td>\n",
       "      <td>1</td>\n",
       "    </tr>\n",
       "    <tr>\n",
       "      <th>4</th>\n",
       "      <td>7.09103</td>\n",
       "      <td>4.62130</td>\n",
       "      <td>1</td>\n",
       "    </tr>\n",
       "  </tbody>\n",
       "</table>\n",
       "</div>"
      ],
      "text/plain": [
       "         x        y  class\n",
       "0  8.64658  5.23205      1\n",
       "1  7.15043  3.66482      1\n",
       "2  5.44272  7.88816      1\n",
       "3  5.44020  6.53084      1\n",
       "4  7.09103  4.62130      1"
      ]
     },
     "execution_count": 2,
     "metadata": {},
     "output_type": "execute_result"
    }
   ],
   "source": [
    "%matplotlib inline\n",
    "\n",
    "import matplotlib.pyplot as plt\n",
    "import pandas as pd\n",
    "import numpy as np\n",
    "\n",
    "mouseDataPath = \"./mouse.csv\"\n",
    "\n",
    "mouseDF  = pd.read_csv(mouseDataPath,sep=',', names=[\"x\",\"y\",\"class\"],header=None)\n",
    "mouseDF.head()\n",
    "\n",
    "#subsampleing\n",
    "mask = 500\n",
    "cls = 1\n",
    "submouseDF = pd.DataFrame()\n",
    "for x in mouseDF:\n",
    "    if cls == 4:\n",
    "        break\n",
    "    if cls == mask:\n",
    "        cls++\n",
    "    \n",
    "    \n",
    "    "
   ]
  },
  {
   "cell_type": "code",
   "execution_count": 6,
   "metadata": {
    "collapsed": false
   },
   "outputs": [],
   "source": [
    "\n",
    "def plotMouse():\n",
    "    xWerte = list(mouseDF[\"x\"])\n",
    "    yWerte = list(mouseDF[\"y\"])\n",
    "    labels = list(mouseDF[\"class\"])\n",
    "\n",
    "    plotSym = ['ob' if v == 1 else 'xg' if v == 2 else '^r' for v in labels]\n",
    "\n",
    "\n",
    "    for i in range(len(xWerte)):\n",
    "           plt.plot(xWerte[i],yWerte[i],plotSym[i], label = 'class'+str(i))\n",
    "    plt.legend(bbox_to_anchor=(1, 1),loc=0)\n",
    "    plt.axis(\"auto\")\n"
   ]
  },
  {
   "cell_type": "markdown",
   "metadata": {},
   "source": [
    "###### a. (1 Punkt)\n",
    "Clustern Sie den Datensatz mit kmeans\n",
    "in 3 Cluster. Verwenden Sie als initiale Zentren\n",
    "der Cluster die Punkte (7,4),(8,6) und (9,4) . Verwenden Sie als Abstandsmaß die euklidische\n",
    "Distanz . Plotten Sie die Clusterzentren und zugeordnete Datenpunkte für die ersten 12 Iterationen\n",
    "(12 Subplots in einem Plot)"
   ]
  },
  {
   "cell_type": "code",
   "execution_count": 7,
   "metadata": {
    "collapsed": false
   },
   "outputs": [
    {
     "ename": "ValueError",
     "evalue": "width and height must each be below 32768",
     "output_type": "error",
     "traceback": [
      "\u001b[1;31m---------------------------------------------------------------------------\u001b[0m",
      "\u001b[1;31mValueError\u001b[0m                                Traceback (most recent call last)",
      "\u001b[1;32mC:\\Users\\Ben\\Anaconda2\\lib\\site-packages\\IPython\\core\\formatters.pyc\u001b[0m in \u001b[0;36m__call__\u001b[1;34m(self, obj)\u001b[0m\n\u001b[0;32m    335\u001b[0m                 \u001b[1;32mpass\u001b[0m\u001b[1;33m\u001b[0m\u001b[0m\n\u001b[0;32m    336\u001b[0m             \u001b[1;32melse\u001b[0m\u001b[1;33m:\u001b[0m\u001b[1;33m\u001b[0m\u001b[0m\n\u001b[1;32m--> 337\u001b[1;33m                 \u001b[1;32mreturn\u001b[0m \u001b[0mprinter\u001b[0m\u001b[1;33m(\u001b[0m\u001b[0mobj\u001b[0m\u001b[1;33m)\u001b[0m\u001b[1;33m\u001b[0m\u001b[0m\n\u001b[0m\u001b[0;32m    338\u001b[0m             \u001b[1;31m# Finally look for special method names\u001b[0m\u001b[1;33m\u001b[0m\u001b[1;33m\u001b[0m\u001b[0m\n\u001b[0;32m    339\u001b[0m             \u001b[0mmethod\u001b[0m \u001b[1;33m=\u001b[0m \u001b[0m_safe_get_formatter_method\u001b[0m\u001b[1;33m(\u001b[0m\u001b[0mobj\u001b[0m\u001b[1;33m,\u001b[0m \u001b[0mself\u001b[0m\u001b[1;33m.\u001b[0m\u001b[0mprint_method\u001b[0m\u001b[1;33m)\u001b[0m\u001b[1;33m\u001b[0m\u001b[0m\n",
      "\u001b[1;32mC:\\Users\\Ben\\Anaconda2\\lib\\site-packages\\IPython\\core\\pylabtools.pyc\u001b[0m in \u001b[0;36m<lambda>\u001b[1;34m(fig)\u001b[0m\n\u001b[0;32m    205\u001b[0m \u001b[1;33m\u001b[0m\u001b[0m\n\u001b[0;32m    206\u001b[0m     \u001b[1;32mif\u001b[0m \u001b[1;34m'png'\u001b[0m \u001b[1;32min\u001b[0m \u001b[0mformats\u001b[0m\u001b[1;33m:\u001b[0m\u001b[1;33m\u001b[0m\u001b[0m\n\u001b[1;32m--> 207\u001b[1;33m         \u001b[0mpng_formatter\u001b[0m\u001b[1;33m.\u001b[0m\u001b[0mfor_type\u001b[0m\u001b[1;33m(\u001b[0m\u001b[0mFigure\u001b[0m\u001b[1;33m,\u001b[0m \u001b[1;32mlambda\u001b[0m \u001b[0mfig\u001b[0m\u001b[1;33m:\u001b[0m \u001b[0mprint_figure\u001b[0m\u001b[1;33m(\u001b[0m\u001b[0mfig\u001b[0m\u001b[1;33m,\u001b[0m \u001b[1;34m'png'\u001b[0m\u001b[1;33m,\u001b[0m \u001b[1;33m**\u001b[0m\u001b[0mkwargs\u001b[0m\u001b[1;33m)\u001b[0m\u001b[1;33m)\u001b[0m\u001b[1;33m\u001b[0m\u001b[0m\n\u001b[0m\u001b[0;32m    208\u001b[0m     \u001b[1;32mif\u001b[0m \u001b[1;34m'retina'\u001b[0m \u001b[1;32min\u001b[0m \u001b[0mformats\u001b[0m \u001b[1;32mor\u001b[0m \u001b[1;34m'png2x'\u001b[0m \u001b[1;32min\u001b[0m \u001b[0mformats\u001b[0m\u001b[1;33m:\u001b[0m\u001b[1;33m\u001b[0m\u001b[0m\n\u001b[0;32m    209\u001b[0m         \u001b[0mpng_formatter\u001b[0m\u001b[1;33m.\u001b[0m\u001b[0mfor_type\u001b[0m\u001b[1;33m(\u001b[0m\u001b[0mFigure\u001b[0m\u001b[1;33m,\u001b[0m \u001b[1;32mlambda\u001b[0m \u001b[0mfig\u001b[0m\u001b[1;33m:\u001b[0m \u001b[0mretina_figure\u001b[0m\u001b[1;33m(\u001b[0m\u001b[0mfig\u001b[0m\u001b[1;33m,\u001b[0m \u001b[1;33m**\u001b[0m\u001b[0mkwargs\u001b[0m\u001b[1;33m)\u001b[0m\u001b[1;33m)\u001b[0m\u001b[1;33m\u001b[0m\u001b[0m\n",
      "\u001b[1;32mC:\\Users\\Ben\\Anaconda2\\lib\\site-packages\\IPython\\core\\pylabtools.pyc\u001b[0m in \u001b[0;36mprint_figure\u001b[1;34m(fig, fmt, bbox_inches, **kwargs)\u001b[0m\n\u001b[0;32m    115\u001b[0m \u001b[1;33m\u001b[0m\u001b[0m\n\u001b[0;32m    116\u001b[0m     \u001b[0mbytes_io\u001b[0m \u001b[1;33m=\u001b[0m \u001b[0mBytesIO\u001b[0m\u001b[1;33m(\u001b[0m\u001b[1;33m)\u001b[0m\u001b[1;33m\u001b[0m\u001b[0m\n\u001b[1;32m--> 117\u001b[1;33m     \u001b[0mfig\u001b[0m\u001b[1;33m.\u001b[0m\u001b[0mcanvas\u001b[0m\u001b[1;33m.\u001b[0m\u001b[0mprint_figure\u001b[0m\u001b[1;33m(\u001b[0m\u001b[0mbytes_io\u001b[0m\u001b[1;33m,\u001b[0m \u001b[1;33m**\u001b[0m\u001b[0mkw\u001b[0m\u001b[1;33m)\u001b[0m\u001b[1;33m\u001b[0m\u001b[0m\n\u001b[0m\u001b[0;32m    118\u001b[0m     \u001b[0mdata\u001b[0m \u001b[1;33m=\u001b[0m \u001b[0mbytes_io\u001b[0m\u001b[1;33m.\u001b[0m\u001b[0mgetvalue\u001b[0m\u001b[1;33m(\u001b[0m\u001b[1;33m)\u001b[0m\u001b[1;33m\u001b[0m\u001b[0m\n\u001b[0;32m    119\u001b[0m     \u001b[1;32mif\u001b[0m \u001b[0mfmt\u001b[0m \u001b[1;33m==\u001b[0m \u001b[1;34m'svg'\u001b[0m\u001b[1;33m:\u001b[0m\u001b[1;33m\u001b[0m\u001b[0m\n",
      "\u001b[1;32mC:\\Users\\Ben\\Anaconda2\\lib\\site-packages\\matplotlib\\backend_bases.pyc\u001b[0m in \u001b[0;36mprint_figure\u001b[1;34m(self, filename, dpi, facecolor, edgecolor, orientation, format, **kwargs)\u001b[0m\n\u001b[0;32m   2209\u001b[0m                 \u001b[0morientation\u001b[0m\u001b[1;33m=\u001b[0m\u001b[0morientation\u001b[0m\u001b[1;33m,\u001b[0m\u001b[1;33m\u001b[0m\u001b[0m\n\u001b[0;32m   2210\u001b[0m                 \u001b[0mbbox_inches_restore\u001b[0m\u001b[1;33m=\u001b[0m\u001b[0m_bbox_inches_restore\u001b[0m\u001b[1;33m,\u001b[0m\u001b[1;33m\u001b[0m\u001b[0m\n\u001b[1;32m-> 2211\u001b[1;33m                 **kwargs)\n\u001b[0m\u001b[0;32m   2212\u001b[0m         \u001b[1;32mfinally\u001b[0m\u001b[1;33m:\u001b[0m\u001b[1;33m\u001b[0m\u001b[0m\n\u001b[0;32m   2213\u001b[0m             \u001b[1;32mif\u001b[0m \u001b[0mbbox_inches\u001b[0m \u001b[1;32mand\u001b[0m \u001b[0mrestore_bbox\u001b[0m\u001b[1;33m:\u001b[0m\u001b[1;33m\u001b[0m\u001b[0m\n",
      "\u001b[1;32mC:\\Users\\Ben\\Anaconda2\\lib\\site-packages\\matplotlib\\backends\\backend_agg.pyc\u001b[0m in \u001b[0;36mprint_png\u001b[1;34m(self, filename_or_obj, *args, **kwargs)\u001b[0m\n\u001b[0;32m    519\u001b[0m \u001b[1;33m\u001b[0m\u001b[0m\n\u001b[0;32m    520\u001b[0m     \u001b[1;32mdef\u001b[0m \u001b[0mprint_png\u001b[0m\u001b[1;33m(\u001b[0m\u001b[0mself\u001b[0m\u001b[1;33m,\u001b[0m \u001b[0mfilename_or_obj\u001b[0m\u001b[1;33m,\u001b[0m \u001b[1;33m*\u001b[0m\u001b[0margs\u001b[0m\u001b[1;33m,\u001b[0m \u001b[1;33m**\u001b[0m\u001b[0mkwargs\u001b[0m\u001b[1;33m)\u001b[0m\u001b[1;33m:\u001b[0m\u001b[1;33m\u001b[0m\u001b[0m\n\u001b[1;32m--> 521\u001b[1;33m         \u001b[0mFigureCanvasAgg\u001b[0m\u001b[1;33m.\u001b[0m\u001b[0mdraw\u001b[0m\u001b[1;33m(\u001b[0m\u001b[0mself\u001b[0m\u001b[1;33m)\u001b[0m\u001b[1;33m\u001b[0m\u001b[0m\n\u001b[0m\u001b[0;32m    522\u001b[0m         \u001b[0mrenderer\u001b[0m \u001b[1;33m=\u001b[0m \u001b[0mself\u001b[0m\u001b[1;33m.\u001b[0m\u001b[0mget_renderer\u001b[0m\u001b[1;33m(\u001b[0m\u001b[1;33m)\u001b[0m\u001b[1;33m\u001b[0m\u001b[0m\n\u001b[0;32m    523\u001b[0m         \u001b[0moriginal_dpi\u001b[0m \u001b[1;33m=\u001b[0m \u001b[0mrenderer\u001b[0m\u001b[1;33m.\u001b[0m\u001b[0mdpi\u001b[0m\u001b[1;33m\u001b[0m\u001b[0m\n",
      "\u001b[1;32mC:\\Users\\Ben\\Anaconda2\\lib\\site-packages\\matplotlib\\backends\\backend_agg.pyc\u001b[0m in \u001b[0;36mdraw\u001b[1;34m(self)\u001b[0m\n\u001b[0;32m    462\u001b[0m         \u001b[1;32mif\u001b[0m \u001b[0m__debug__\u001b[0m\u001b[1;33m:\u001b[0m \u001b[0mverbose\u001b[0m\u001b[1;33m.\u001b[0m\u001b[0mreport\u001b[0m\u001b[1;33m(\u001b[0m\u001b[1;34m'FigureCanvasAgg.draw'\u001b[0m\u001b[1;33m,\u001b[0m \u001b[1;34m'debug-annoying'\u001b[0m\u001b[1;33m)\u001b[0m\u001b[1;33m\u001b[0m\u001b[0m\n\u001b[0;32m    463\u001b[0m \u001b[1;33m\u001b[0m\u001b[0m\n\u001b[1;32m--> 464\u001b[1;33m         \u001b[0mself\u001b[0m\u001b[1;33m.\u001b[0m\u001b[0mrenderer\u001b[0m \u001b[1;33m=\u001b[0m \u001b[0mself\u001b[0m\u001b[1;33m.\u001b[0m\u001b[0mget_renderer\u001b[0m\u001b[1;33m(\u001b[0m\u001b[0mcleared\u001b[0m\u001b[1;33m=\u001b[0m\u001b[0mTrue\u001b[0m\u001b[1;33m)\u001b[0m\u001b[1;33m\u001b[0m\u001b[0m\n\u001b[0m\u001b[0;32m    465\u001b[0m         \u001b[1;31m# acquire a lock on the shared font cache\u001b[0m\u001b[1;33m\u001b[0m\u001b[1;33m\u001b[0m\u001b[0m\n\u001b[0;32m    466\u001b[0m         \u001b[0mRendererAgg\u001b[0m\u001b[1;33m.\u001b[0m\u001b[0mlock\u001b[0m\u001b[1;33m.\u001b[0m\u001b[0macquire\u001b[0m\u001b[1;33m(\u001b[0m\u001b[1;33m)\u001b[0m\u001b[1;33m\u001b[0m\u001b[0m\n",
      "\u001b[1;32mC:\\Users\\Ben\\Anaconda2\\lib\\site-packages\\matplotlib\\backends\\backend_agg.pyc\u001b[0m in \u001b[0;36mget_renderer\u001b[1;34m(self, cleared)\u001b[0m\n\u001b[0;32m    479\u001b[0m \u001b[1;33m\u001b[0m\u001b[0m\n\u001b[0;32m    480\u001b[0m         \u001b[1;32mif\u001b[0m \u001b[0mneed_new_renderer\u001b[0m\u001b[1;33m:\u001b[0m\u001b[1;33m\u001b[0m\u001b[0m\n\u001b[1;32m--> 481\u001b[1;33m             \u001b[0mself\u001b[0m\u001b[1;33m.\u001b[0m\u001b[0mrenderer\u001b[0m \u001b[1;33m=\u001b[0m \u001b[0mRendererAgg\u001b[0m\u001b[1;33m(\u001b[0m\u001b[0mw\u001b[0m\u001b[1;33m,\u001b[0m \u001b[0mh\u001b[0m\u001b[1;33m,\u001b[0m \u001b[0mself\u001b[0m\u001b[1;33m.\u001b[0m\u001b[0mfigure\u001b[0m\u001b[1;33m.\u001b[0m\u001b[0mdpi\u001b[0m\u001b[1;33m)\u001b[0m\u001b[1;33m\u001b[0m\u001b[0m\n\u001b[0m\u001b[0;32m    482\u001b[0m             \u001b[0mself\u001b[0m\u001b[1;33m.\u001b[0m\u001b[0m_lastKey\u001b[0m \u001b[1;33m=\u001b[0m \u001b[0mkey\u001b[0m\u001b[1;33m\u001b[0m\u001b[0m\n\u001b[0;32m    483\u001b[0m         \u001b[1;32melif\u001b[0m \u001b[0mcleared\u001b[0m\u001b[1;33m:\u001b[0m\u001b[1;33m\u001b[0m\u001b[0m\n",
      "\u001b[1;32mC:\\Users\\Ben\\Anaconda2\\lib\\site-packages\\matplotlib\\backends\\backend_agg.pyc\u001b[0m in \u001b[0;36m__init__\u001b[1;34m(self, width, height, dpi)\u001b[0m\n\u001b[0;32m     92\u001b[0m         \u001b[0mself\u001b[0m\u001b[1;33m.\u001b[0m\u001b[0mheight\u001b[0m \u001b[1;33m=\u001b[0m \u001b[0mheight\u001b[0m\u001b[1;33m\u001b[0m\u001b[0m\n\u001b[0;32m     93\u001b[0m         \u001b[1;32mif\u001b[0m \u001b[0m__debug__\u001b[0m\u001b[1;33m:\u001b[0m \u001b[0mverbose\u001b[0m\u001b[1;33m.\u001b[0m\u001b[0mreport\u001b[0m\u001b[1;33m(\u001b[0m\u001b[1;34m'RendererAgg.__init__ width=%s, height=%s'\u001b[0m\u001b[1;33m%\u001b[0m\u001b[1;33m(\u001b[0m\u001b[0mwidth\u001b[0m\u001b[1;33m,\u001b[0m \u001b[0mheight\u001b[0m\u001b[1;33m)\u001b[0m\u001b[1;33m,\u001b[0m \u001b[1;34m'debug-annoying'\u001b[0m\u001b[1;33m)\u001b[0m\u001b[1;33m\u001b[0m\u001b[0m\n\u001b[1;32m---> 94\u001b[1;33m         \u001b[0mself\u001b[0m\u001b[1;33m.\u001b[0m\u001b[0m_renderer\u001b[0m \u001b[1;33m=\u001b[0m \u001b[0m_RendererAgg\u001b[0m\u001b[1;33m(\u001b[0m\u001b[0mint\u001b[0m\u001b[1;33m(\u001b[0m\u001b[0mwidth\u001b[0m\u001b[1;33m)\u001b[0m\u001b[1;33m,\u001b[0m \u001b[0mint\u001b[0m\u001b[1;33m(\u001b[0m\u001b[0mheight\u001b[0m\u001b[1;33m)\u001b[0m\u001b[1;33m,\u001b[0m \u001b[0mdpi\u001b[0m\u001b[1;33m,\u001b[0m \u001b[0mdebug\u001b[0m\u001b[1;33m=\u001b[0m\u001b[0mFalse\u001b[0m\u001b[1;33m)\u001b[0m\u001b[1;33m\u001b[0m\u001b[0m\n\u001b[0m\u001b[0;32m     95\u001b[0m         \u001b[0mself\u001b[0m\u001b[1;33m.\u001b[0m\u001b[0m_filter_renderers\u001b[0m \u001b[1;33m=\u001b[0m \u001b[1;33m[\u001b[0m\u001b[1;33m]\u001b[0m\u001b[1;33m\u001b[0m\u001b[0m\n\u001b[0;32m     96\u001b[0m \u001b[1;33m\u001b[0m\u001b[0m\n",
      "\u001b[1;31mValueError\u001b[0m: width and height must each be below 32768"
     ]
    },
    {
     "data": {
      "text/plain": [
       "<matplotlib.figure.Figure at 0x3d8e6d8>"
      ]
     },
     "metadata": {},
     "output_type": "display_data"
    }
   ],
   "source": [
    "centroids = [(7,4),(8,6),(9,4)]\n",
    "\n",
    "plt.plot([centroids[x][0] for x in range(3)],[centroids[x][1] for x in range(3)],'m')\n",
    "plotMouse()"
   ]
  },
  {
   "cell_type": "markdown",
   "metadata": {},
   "source": [
    "###### b. (1 Punkt)\n",
    "Clustern Sie den Datensatz mit kmeans\n",
    "in 3 Cluster. Verwenden Sie als Abstandsmaß\n",
    "die Wahrscheinlichkeitsdichtefunktion (pdf) der Normalverteilung der jeweiligen Cluster.\n",
    "Wählen Sie die initialen Mittelwerte der Cluster zufällig und als initiale Kovarianzmatrizen die\n",
    "Identitätsmatrix . Plotten Sie die Clusterzentren (Mittelwerte) und zugeordnete Datenpunkte für die\n",
    "ersten 12 Iterationen (12 Subplots in einem Plot)"
   ]
  },
  {
   "cell_type": "markdown",
   "metadata": {},
   "source": [
    "###### c. (1 Punkt)\n",
    "Wie b) aber mit (7,4),(8,6) und (9,4) als initiale Clusterzentren."
   ]
  },
  {
   "cell_type": "markdown",
   "metadata": {},
   "source": [
    "###### d. (1 Punkt)\n",
    "Wie b) aber mit k=30. Die Clusterzentren (Mittelwerte) und Kovarianzmatrizen sollen\n",
    "dabei gewichtetet über allen Datenpunkten berechnet werden (also nicht nur über den Punkten,\n",
    "die den jeweiligen Clustern zugeordnet wurden). Als Gewichte verwenden Sie dabei den Wert der\n",
    "jeweiligen pdf. ( https://en.wikipedia.org/wiki/Weighted_arithmetic_mean ). Für diese Aufgabe\n",
    "müssen Sie die Datenpunkte nicht einem bestimmten Cluster zuordnen."
   ]
  }
 ],
 "metadata": {
  "kernelspec": {
   "display_name": "Python 2",
   "language": "python",
   "name": "python2"
  },
  "language_info": {
   "codemirror_mode": {
    "name": "ipython",
    "version": 2
   },
   "file_extension": ".py",
   "mimetype": "text/x-python",
   "name": "python",
   "nbconvert_exporter": "python",
   "pygments_lexer": "ipython2",
   "version": "2.7.10"
  }
 },
 "nbformat": 4,
 "nbformat_minor": 0
}
