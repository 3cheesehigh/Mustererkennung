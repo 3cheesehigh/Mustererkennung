{
 "cells": [
  {
   "cell_type": "markdown",
   "metadata": {},
   "source": [
    "# Mustererkennung Übung 3\n",
    "### Benjamin Kiesling, Peewee Manzer "
   ]
  },
  {
   "cell_type": "markdown",
   "metadata": {},
   "source": [
    "## 1. Aufgabe (6 Punkte):\n",
    "Gegeben seien folgende Punkte:\n",
    "$(1,-1),(2,1),(4,-1),(5,1)$"
   ]
  },
  {
   "cell_type": "markdown",
   "metadata": {},
   "source": [
    "###### a. (1 Punkt) \n",
    "Bilden Sie den Mittelwert μ der gegebenen Punkte.\n"
   ]
  },
  {
   "cell_type": "markdown",
   "metadata": {},
   "source": [
    "$\\mu = \\left( \\dfrac{1+2+4+5}{4}, \\dfrac{-1+1-1+1}{4} \\right) =(3, 0 )$"
   ]
  },
  {
   "cell_type": "markdown",
   "metadata": {},
   "source": [
    "###### b. (1 Punkt) \n",
    "Berechnen Sie die Kovarianzmatrix C der gegebenen Punkte.\n"
   ]
  },
  {
   "cell_type": "markdown",
   "metadata": {},
   "source": [
    "$Var(x) = Cov(x,x) = \\frac{1}{n} \\sum^n_{i= 1} (x_i - \\mu )^2   = \\dfrac{(1-3)^2 + (2-3)^2 + (4-3)^2 + (5-3)^2}{4}) = \\dfrac{10}{4} = 2.5 $<br\\>\n",
    "$Var(y) = Cov(y,y) = \\frac{1}{n} \\sum^n_{i= 1} (y_i - \\mu )^2  =\\dfrac{(-1-0)^2 + (1-0)^2 + (-1-0)^2 + (1-0)^2}{4})= 1$ <br\\>\n",
    "$Cov(x,y) = Cov(y, x) =  \\frac{1}{n} \\sum^n_{i= 1} (x_i - \\mu_x ) \\cdot (y_i - \\mu_y ) \n",
    "= \\dfrac{(1-3)\\cdot(-1-1)+(2-3)\\cdot(1-1)+(4-3)\\cdot(-1-1)+(5-3)\\cdot(1-1)}{4} \\\\=\\dfrac{4+0-2+0}{4} = 0.5\n",
    "$ <br\\> <br\\>\n",
    "$C =   \\begin{pmatrix}     \\sigma_1^2& c \\\\     c & \\sigma_2^2    \\end{pmatrix} =\n",
    "\\begin{pmatrix}     2.5& 0.5 \\\\     0.5 & 1    \\end{pmatrix}$ <br\\>"
   ]
  },
  {
   "cell_type": "markdown",
   "metadata": {},
   "source": [
    "###### c. (1 Punkt)\n",
    "Berechnen Sie die Eigenwerte λ1 und λ2 , indem Sie die Gleichung det(C− Iλ) = 0 lösen.\n",
    "(I ist die Identitätsmatrix). Geben Sie die einzelnen Schritte der Berechnung an.\n",
    "\n"
   ]
  },
  {
   "cell_type": "markdown",
   "metadata": {},
   "source": [
    "\n",
    "\\begin{align}\n",
    "det(C− I\\lambda) &= 0 \\\\\n",
    "det\\left(\\begin{pmatrix}     2.5& 0.5 \\\\     0.5 & 1    \\end{pmatrix}− \\begin{pmatrix}     1& 0 \\\\     0 & 1    \\end{pmatrix}\\lambda\\right) &= 0 \\\\\n",
    "det\\left(\\begin{pmatrix}     (2.5- \\lambda) & 0.5 \\\\     0.5 & 1 - \\lambda    \\end{pmatrix}\\right)  &= 0 \\\\\n",
    "(2.5 - \\lambda) \\cdot (1-\\lambda) -  0.5 \\cdot 0.5 &= 0 \\\\\n",
    " \\lambda^2 - 3.5 \\lambda + 2.25&= 0\\\\\n",
    "\\end{align}\n",
    "\n",
    "$\\lambda_1 = \\dfrac{7-\\sqrt{13}}{4} \\sim 0.85 \\\\ \\lambda_2 = \\dfrac{7+\\sqrt{13}}{4} \\sim 2.65$\n",
    "\n"
   ]
  },
  {
   "cell_type": "markdown",
   "metadata": {},
   "source": [
    "###### d. (1 Punkt)\n",
    "Geben Sie das durch die Gleichung (C− Iλ) ∙ x = 0 definierte →\n",
    "Gleichungssystem an und berechnen Sie die Eigenvektoren x1 und x2 . Sie müssen das Ergebnis\n",
    "eventuell noch normieren."
   ]
  },
  {
   "cell_type": "markdown",
   "metadata": {},
   "source": [
    "\n",
    "#### 1. $\\lambda_1 = 0.85$\n",
    "\n",
    "  \\begin{align}\n",
    "  (2.5 -0.85 )x + 0.5 y &=0\\\\\n",
    "  0.5x +(1-0.85)y &= 0\n",
    "  \\end{align}\n",
    "\n",
    "  \\begin{align}\n",
    "  1.65 x + 0.5 y &=0\\\\\n",
    "  0.5x +0.15y &= 0\n",
    "  \\end{align}\n",
    "\n",
    "  Setze $y=1$ :\n",
    "\n",
    "  \\begin{align}\n",
    "  1.65 x + 0.5  &=0\\\\\n",
    "  1.65 x        &=-0.5\\\\\n",
    "         x        &=-\\dfrac{10}{33} =-0.303  \n",
    "  \\end{align}\n",
    "\n",
    "  Der erste Eigenvektor lautet: $\\begin{pmatrix}-0.303  \\\\1\\end{pmatrix}$\n",
    "\n",
    "\n",
    "#### 2.  $\\lambda_2 = 2.65$\n",
    "\n",
    "  \\begin{align}\n",
    "  (2.5 -2.65 )x + 0.5 y &=0\\\\\n",
    "  0.5x +(1-2.65)y &= 0\n",
    "  \\end{align}\n",
    "\n",
    "  \\begin{align}\n",
    "  -0,15 x + 0.5 y &=0\\\\\n",
    "  0.5x -1.65y &= 0\n",
    "  \\end{align}\n",
    "\n",
    "  Setze $y=1$ :\n",
    "\n",
    "  \\begin{align}\n",
    "  -0,15 x + 0.5  &=0\\\\\n",
    "  -0,15 x        &=-0.5\\\\\n",
    "         x        &=\\dfrac{10}{3} =3.\\bar{3}\n",
    "  \\end{align}\n",
    "\n",
    "  Der zweite Eigenvektor lautet: $\\begin{pmatrix}3.\\bar{3}  \\\\1\\end{pmatrix}$\n",
    "\n"
   ]
  },
  {
   "cell_type": "markdown",
   "metadata": {},
   "source": [
    "###### e. (1 Punkt)\n",
    "Geben Sie die Transformationsmatrix T an, um die Punkte in das durch die\n",
    "Eigenvektoren aufgespannte Koordinatensystem zu transformieren. Transformieren Sie die\n",
    "gegebenen Punkte."
   ]
  },
  {
   "cell_type": "markdown",
   "metadata": {},
   "source": [
    "Die Basis in welche wir die Punkte überführen wollen ist:<br\\>\n",
    "$A= \\begin{pmatrix}     -\\dfrac{10}{33}& \\dfrac{10}{3} \\\\    1 & 1   \\end{pmatrix}$ <br\\>\n",
    "Für die Transformationsmatrix wird die Inverse Matrix von A erstellt:<br\\>\n",
    "$A^{-1}= $\n",
    "$\n",
    "\\left(\\begin{array}{cc|cc}\n",
    "  -\\dfrac{10}{33}& \\dfrac{10}{3}& 1 &  0 \\\\\n",
    "  1 & 1 & 0 &  1 \\\\\n",
    "\\end{array}\\right)\n",
    "\\begin{array}{c}\n",
    "   \\\\\n",
    "  II+I*\\dfrac{33}{10}\\\\\n",
    "  \\\\\n",
    "\\end{array}\\sim\n",
    "\\left(\\begin{array}{cc|cc}\n",
    "  -\\dfrac{10}{33}& \\dfrac{10}{3}& 1 &  0 \\\\\n",
    "  0 & 12 & \\dfrac{33}{10} &  1 \\\\\n",
    "\\end{array}\\right)\n",
    "\\begin{array}{c}\n",
    "   \\\\\n",
    "  \\\\\n",
    "   I-(\\dfrac{5}{18})II\\\\\n",
    "\\end{array}\\sim\n",
    "\\\\\\\\\\\\\n",
    "\\left(\\begin{array}{cc|cc}\n",
    "  -\\dfrac{10}{33}& 0& \\dfrac{1}{12} &  -\\dfrac{5}{18}\\\\\n",
    "  0 & 12 & \\dfrac{33}{10} &  1 \\\\\n",
    "\\end{array}\\right)\n",
    "\\begin{array}{c}\n",
    "   :-\\dfrac{10}{33} \\\\\n",
    "  :12\\\\\n",
    "\\end{array}\\sim\n",
    "\\left(\\begin{array}{cc|cc}\n",
    "  1& 0& -\\dfrac{11}{40} &  -\\dfrac{11}{12}\\\\\n",
    "  0 & 1 & \\dfrac{11}{40} &  \\dfrac{1}{12} \\\\\n",
    "\\end{array}\\right)\n",
    "\\\\\\\\\\\\\n",
    "A^{-1} = \n",
    "\\left(\\begin{array}{ccc}\n",
    "   -\\dfrac{11}{40} &  -\\dfrac{11}{12}\\\\\n",
    "  \\dfrac{11}{40} &  \\dfrac{1}{12} \\\\\n",
    "\\end{array}\\right)\\\\\\\\\n",
    "$<br\\>\n",
    "Die Basis der Punkte ist: <br\\>\n",
    "$B=\n",
    "\\left(\\begin{array}{ccc}\n",
    "   1 &  2\\\\\n",
    "  -1 &  1 \\\\\n",
    "\\end{array}\\right)\\\\\\\\$ <br\\>\n",
    "Somit ergibt sich T durch:  <br\\>\n",
    "$T=A^{-1}\\cdot B= \\left(\\begin{array}{ccc}\n",
    "   -\\dfrac{11}{40} &  -\\dfrac{11}{12}\\\\\n",
    "  \\dfrac{11}{40} &  \\dfrac{1}{12} \\\\\n",
    "\\end{array}\\right)\n",
    "\\cdot \\left(\\begin{array}{ccc}\n",
    "   1 &  2\\\\\n",
    "  -1 &  1 \\\\\n",
    "\\end{array}\\right) = \n",
    "\\left(\\begin{array}{ccc}\n",
    "   -\\dfrac{143}{120} &  \\dfrac{11}{30}\\\\\n",
    "  \\dfrac{23}{120} &  \\dfrac{10}{30} \\\\\n",
    "\\end{array}\\right)$<br\\>\n",
    "Durch diese Matrix ergeben sich folgende transformierte Punkte:<br\\>\n",
    "$x_1=$"
   ]
  },
  {
   "cell_type": "markdown",
   "metadata": {},
   "source": [
    "###### f. (1 Punkt)\n",
    "Geben Sie die Matrix $M = T \\cdot C \\cdot T^T$ an. ( $T^T$ ist T transponiert)"
   ]
  },
  {
   "cell_type": "markdown",
   "metadata": {},
   "source": [
    "## 2. Aufgabe (4 Punkte):\n",
    "Laden Sie die Datei mouse.csv aus dem Resources Ordner der KVV Seite\n",
    "herunter. Jede Zeile dieser\n",
    "Datei ist ein Datensatz, der einen zweidimensionalen Punkt beschreibt: x, y, Klasse ."
   ]
  },
  {
   "cell_type": "code",
   "execution_count": 27,
   "metadata": {
    "collapsed": false
   },
   "outputs": [],
   "source": [
    "%matplotlib inline\n",
    "#read the csv and load it in a dataframe\n",
    "import matplotlib.pyplot as plt\n",
    "import pandas as pd\n",
    "import numpy as np"
   ]
  },
  {
   "cell_type": "code",
   "execution_count": 203,
   "metadata": {
    "collapsed": false
   },
   "outputs": [],
   "source": [
    "\n",
    "#loadData\n",
    "mouseDataPath = \"./mouse.csv\"\n",
    "mouse = np.loadtxt(mouseDataPath, delimiter=',',dtype={'names': ('x', 'y', 'class'),\n",
    "                     'formats': ('f4','f4', 'i4', )})\n",
    "\n",
    "#subsample to compute faster\n",
    "def subSample(data,mask,cls):\n",
    "    cnt = 0 \n",
    "    res = []\n",
    "    for i,item in enumerate(mouse):        \n",
    "        if cnt<mask and item[2] == cls:\n",
    "            cnt += 1\n",
    "            res.append(item)        \n",
    "    return res   \n",
    "\n",
    "mask = 500\n",
    "class1 = subSample(mouse,mask,1)\n",
    "class2 = subSample(mouse,mask,2)\n",
    "class3 = subSample(mouse,mask,3)\n",
    "\n",
    "subMouse = class1+class2+class3"
   ]
  },
  {
   "cell_type": "code",
   "execution_count": 22,
   "metadata": {
    "collapsed": false
   },
   "outputs": [],
   "source": [
    "# Plot the data\n",
    "def plotMouse(df):\n",
    "    xWerte = list(df[\"x\"])\n",
    "    yWerte = list(df[\"y\"])\n",
    "    labels = list(df[\"class\"])\n",
    "\n",
    "    plotSym = ['ob' if v == 1 else 'xg' if v == 2 else '^r' for v in labels]\n",
    "\n",
    "\n",
    "    for i in range(len(xWerte)):\n",
    "           plt.plot(xWerte[i],yWerte[i],plotSym[i],)\n",
    "    plt.axis(\"auto\")\n",
    "    \n",
    "\n",
    "    \n"
   ]
  },
  {
   "cell_type": "code",
   "execution_count": 232,
   "metadata": {
    "collapsed": false
   },
   "outputs": [],
   "source": [
    "# classifier\n",
    "\n",
    "class kMeans:\n",
    "    \n",
    "    def __init__(self):\n",
    "        pass\n",
    "    \n",
    "    def init_centroids(self,ctrds,data):\n",
    "        self.centroids = ctrds\n",
    "        self.data = data\n",
    "        \n",
    "    #calculates new centroids\n",
    "    def computeCentroids(self):\n",
    "            distances = self.dists()\n",
    "            for i,ctr in enumerate(self.centroids):\n",
    "                for d,_ in enumerate(ctr):\n",
    "                    self.centroids[i][d] = np.mean(distances[i][d])\n",
    "    \n",
    "    #computes all euclidean distances of all centroids and returns a list of them \n",
    "    def dists(self):\n",
    "        distList = []\n",
    "        for ctr in self.centroids:\n",
    "            ctrTmp = []\n",
    "            for d,_ in enumerate(ctr):\n",
    "                dimTmp = []\n",
    "                for yi in self.data:\n",
    "                    dimTmp.append(np.sqrt(np.square(ctr[d]-yi[d])))\n",
    "                ctrTmp.append(dimTmp)    \n",
    "            distList.append(ctrTmp)\n",
    "        return distList\n",
    "    \n",
    "    \n",
    "    \n",
    "    def iterateKmeans(self,times):\n",
    "        for i in range(times):\n",
    "            self.computeCentroids()\n",
    "            print self.centroids\n",
    "    \n",
    "    def assignClusters(self,distances):\n",
    "        assigned = []\n",
    "        fot i,datapoint in enumerate(self.data):\n",
    "            minD = 9999\n",
    "            for c,ctr in enumerate(self.data)\n",
    "                    if newD < minD :\n",
    "                        minD = newD\n",
    "                        assigned[yi] = c+1\n",
    "        return assigned\n",
    "        "
   ]
  },
  {
   "cell_type": "code",
   "execution_count": 233,
   "metadata": {
    "collapsed": false
   },
   "outputs": [
    {
     "name": "stdout",
     "output_type": "stream",
     "text": [
      "[[3.2466104033788046, 3.8329287497202555], [3.1869388532638552, 2.48795742670695], [3.2602991870244344, 3.8329287497202555]]\n",
      "[[4.7596778809530473, 3.9742896330388393], [4.8140150432395927, 5.2164207809151542], [4.7473063399815034, 3.9742896330388393]]\n",
      "[[3.7790943114708075, 3.8545550050533888], [3.7586609843617502, 2.9294065436020005], [3.783852449228656, 3.8545550050533888]]\n",
      "[[4.317719384685641, 3.9558063454354975], [4.3327505483157172, 4.7927538882880452], [4.314236427846895, 3.9558063454354975]]\n",
      "[[3.9789634364460351, 3.8701251624985917], [3.9710997197726901, 3.2130705917073681], [3.9807977937144416, 3.8701251624985917]]\n",
      "[[4.1791520105598314, 3.9425756117739468], [4.1843521135194601, 4.5281679779559205], [4.1779458176554813, 3.9425756117739468]]\n",
      "[[4.0552440666811851, 3.8812831999464605], [4.0522299593312034, 3.4070975943401032], [4.0559436585657087, 3.8812831999464605]]\n",
      "[[4.1299953141363206, 3.9331258270981051], [4.1318948059612604, 4.350156534343256], [4.1295550376436596, 3.9331258270981051]]\n",
      "[[4.0840488734994898, 3.8892705972385526], [4.0829215288356053, 3.5462063485548545], [4.0843106912537923, 3.8892705972385526]]\n",
      "[[4.111960999723272, 3.9263631640574674], [4.1126614565410975, 4.2252569535100699], [4.1117983236252655, 3.9263631640574674]]\n",
      "[[4.0948448276779095, 3.8949873017289041], [4.0944209800686133, 3.6468724498903673], [4.0949433009425693, 3.8949873017289041]]\n",
      "[[4.1052848525078653, 3.9215230209223035], [4.1055457760473271, 4.1358249274892378], [4.1052243242745199, 3.9215230209223035]]\n"
     ]
    }
   ],
   "source": [
    "centroids = [[7,4],[8,6],[9,4]]\n",
    "#y = [[10,12],[1,2],[12,12],[3,7]]\n",
    "y = [[x[0],x[1] ] for x in subMouse]\n",
    "\n",
    "classifier = kMeans()\n",
    "classifier.init_centroids(centroids,y)\n",
    "classifier.iterateKmeans(12)"
   ]
  },
  {
   "cell_type": "markdown",
   "metadata": {},
   "source": [
    "###### a. (1 Punkt)\n",
    "Clustern Sie den Datensatz mit kmeans\n",
    "in 3 Cluster. Verwenden Sie als initiale Zentren\n",
    "der Cluster die Punkte (7,4),(8,6) und (9,4) . Verwenden Sie als Abstandsmaß die euklidische\n",
    "Distanz . Plotten Sie die Clusterzentren und zugeordnete Datenpunkte für die ersten 12 Iterationen\n",
    "(12 Subplots in einem Plot)"
   ]
  },
  {
   "cell_type": "code",
   "execution_count": 23,
   "metadata": {
    "collapsed": false
   },
   "outputs": [
    {
     "data": {
      "image/png": "[encoded data removed]",
      "text/plain": [
       "<matplotlib.figure.Figure at 0x808ebcc0>"
      ]
     },
     "metadata": {},
     "output_type": "display_data"
    }
   ],
   "source": [
    "centroids = [(7,4),(8,6),(9,4)]\n",
    "\n",
    "plt.plot([centroids[x][0] for x in range(3)],[centroids[x][1] for x in range(3)],'xm')\n",
    "plotMouse(subDF)\n",
    "plt.show()"
   ]
  },
  {
   "cell_type": "code",
   "execution_count": 39,
   "metadata": {
    "collapsed": false
   },
   "outputs": [
    {
     "ename": "AttributeError",
     "evalue": "'int' object has no attribute 'set_figure'",
     "output_type": "error",
     "traceback": [
      "\u001b[1;31m---------------------------------------------------------------------------\u001b[0m",
      "\u001b[1;31mAttributeError\u001b[0m                            Traceback (most recent call last)",
      "\u001b[1;32m<ipython-input-39-38954a590f51>\u001b[0m in \u001b[0;36m<module>\u001b[1;34m()\u001b[0m\n\u001b[0;32m      1\u001b[0m \u001b[0mfig\u001b[0m \u001b[1;33m=\u001b[0m \u001b[0mplt\u001b[0m\u001b[1;33m.\u001b[0m\u001b[0mfigure\u001b[0m\u001b[1;33m(\u001b[0m\u001b[1;33m)\u001b[0m\u001b[1;33m\u001b[0m\u001b[0m\n\u001b[0;32m      2\u001b[0m \u001b[0max\u001b[0m \u001b[1;33m=\u001b[0m \u001b[0mfig\u001b[0m\u001b[1;33m.\u001b[0m\u001b[0madd_subplot\u001b[0m\u001b[1;33m(\u001b[0m\u001b[1;36m111\u001b[0m\u001b[1;33m)\u001b[0m\u001b[1;33m\u001b[0m\u001b[0m\n\u001b[1;32m----> 3\u001b[1;33m \u001b[0max\u001b[0m\u001b[1;33m.\u001b[0m\u001b[0madd_line\u001b[0m\u001b[1;33m(\u001b[0m\u001b[1;36m1\u001b[0m\u001b[1;33m)\u001b[0m\u001b[1;33m\u001b[0m\u001b[0m\n\u001b[0m",
      "\u001b[1;32mC:\\Users\\Ben\\Anaconda2\\lib\\site-packages\\matplotlib\\axes\\_base.pyc\u001b[0m in \u001b[0;36madd_line\u001b[1;34m(self, line)\u001b[0m\n\u001b[0;32m   1498\u001b[0m         \u001b[0mReturns\u001b[0m \u001b[0mthe\u001b[0m \u001b[0mline\u001b[0m\u001b[1;33m.\u001b[0m\u001b[1;33m\u001b[0m\u001b[0m\n\u001b[0;32m   1499\u001b[0m         \"\"\"\n\u001b[1;32m-> 1500\u001b[1;33m         \u001b[0mself\u001b[0m\u001b[1;33m.\u001b[0m\u001b[0m_set_artist_props\u001b[0m\u001b[1;33m(\u001b[0m\u001b[0mline\u001b[0m\u001b[1;33m)\u001b[0m\u001b[1;33m\u001b[0m\u001b[0m\n\u001b[0m\u001b[0;32m   1501\u001b[0m         \u001b[1;32mif\u001b[0m \u001b[0mline\u001b[0m\u001b[1;33m.\u001b[0m\u001b[0mget_clip_path\u001b[0m\u001b[1;33m(\u001b[0m\u001b[1;33m)\u001b[0m \u001b[1;32mis\u001b[0m \u001b[0mNone\u001b[0m\u001b[1;33m:\u001b[0m\u001b[1;33m\u001b[0m\u001b[0m\n\u001b[0;32m   1502\u001b[0m             \u001b[0mline\u001b[0m\u001b[1;33m.\u001b[0m\u001b[0mset_clip_path\u001b[0m\u001b[1;33m(\u001b[0m\u001b[0mself\u001b[0m\u001b[1;33m.\u001b[0m\u001b[0mpatch\u001b[0m\u001b[1;33m)\u001b[0m\u001b[1;33m\u001b[0m\u001b[0m\n",
      "\u001b[1;32mC:\\Users\\Ben\\Anaconda2\\lib\\site-packages\\matplotlib\\axes\\_base.pyc\u001b[0m in \u001b[0;36m_set_artist_props\u001b[1;34m(self, a)\u001b[0m\n\u001b[0;32m    773\u001b[0m     \u001b[1;32mdef\u001b[0m \u001b[0m_set_artist_props\u001b[0m\u001b[1;33m(\u001b[0m\u001b[0mself\u001b[0m\u001b[1;33m,\u001b[0m \u001b[0ma\u001b[0m\u001b[1;33m)\u001b[0m\u001b[1;33m:\u001b[0m\u001b[1;33m\u001b[0m\u001b[0m\n\u001b[0;32m    774\u001b[0m         \u001b[1;34m\"\"\"set the boilerplate props for artists added to axes\"\"\"\u001b[0m\u001b[1;33m\u001b[0m\u001b[0m\n\u001b[1;32m--> 775\u001b[1;33m         \u001b[0ma\u001b[0m\u001b[1;33m.\u001b[0m\u001b[0mset_figure\u001b[0m\u001b[1;33m(\u001b[0m\u001b[0mself\u001b[0m\u001b[1;33m.\u001b[0m\u001b[0mfigure\u001b[0m\u001b[1;33m)\u001b[0m\u001b[1;33m\u001b[0m\u001b[0m\n\u001b[0m\u001b[0;32m    776\u001b[0m         \u001b[1;32mif\u001b[0m \u001b[1;32mnot\u001b[0m \u001b[0ma\u001b[0m\u001b[1;33m.\u001b[0m\u001b[0mis_transform_set\u001b[0m\u001b[1;33m(\u001b[0m\u001b[1;33m)\u001b[0m\u001b[1;33m:\u001b[0m\u001b[1;33m\u001b[0m\u001b[0m\n\u001b[0;32m    777\u001b[0m             \u001b[0ma\u001b[0m\u001b[1;33m.\u001b[0m\u001b[0mset_transform\u001b[0m\u001b[1;33m(\u001b[0m\u001b[0mself\u001b[0m\u001b[1;33m.\u001b[0m\u001b[0mtransData\u001b[0m\u001b[1;33m)\u001b[0m\u001b[1;33m\u001b[0m\u001b[0m\n",
      "\u001b[1;31mAttributeError\u001b[0m: 'int' object has no attribute 'set_figure'"
     ]
    },
    {
     "data": {
      "image/png": "[encoded data removed]",
      "text/plain": [
       "<matplotlib.figure.Figure at 0x6d44f588>"
      ]
     },
     "metadata": {},
     "output_type": "display_data"
    }
   ],
   "source": [
    "fig = plt.figure()\n",
    "ax = fig.add_subplot(111)\n",
    "\n"
   ]
  },
  {
   "cell_type": "markdown",
   "metadata": {},
   "source": [
    "###### b. (1 Punkt)\n",
    "Clustern Sie den Datensatz mit kmeans\n",
    "in 3 Cluster. Verwenden Sie als Abstandsmaß\n",
    "die Wahrscheinlichkeitsdichtefunktion (pdf) der Normalverteilung der jeweiligen Cluster.\n",
    "Wählen Sie die initialen Mittelwerte der Cluster zufällig und als initiale Kovarianzmatrizen die\n",
    "Identitätsmatrix . Plotten Sie die Clusterzentren (Mittelwerte) und zugeordnete Datenpunkte für die\n",
    "ersten 12 Iterationen (12 Subplots in einem Plot)"
   ]
  },
  {
   "cell_type": "markdown",
   "metadata": {},
   "source": [
    "###### c. (1 Punkt)\n",
    "Wie b) aber mit (7,4),(8,6) und (9,4) als initiale Clusterzentren."
   ]
  },
  {
   "cell_type": "markdown",
   "metadata": {},
   "source": [
    "###### d. (1 Punkt)\n",
    "Wie b) aber mit k=30. Die Clusterzentren (Mittelwerte) und Kovarianzmatrizen sollen\n",
    "dabei gewichtetet über allen Datenpunkten berechnet werden (also nicht nur über den Punkten,\n",
    "die den jeweiligen Clustern zugeordnet wurden). Als Gewichte verwenden Sie dabei den Wert der\n",
    "jeweiligen pdf. ( https://en.wikipedia.org/wiki/Weighted_arithmetic_mean ). Für diese Aufgabe\n",
    "müssen Sie die Datenpunkte nicht einem bestimmten Cluster zuordnen."
   ]
  }
 ],
 "metadata": {
  "kernelspec": {
   "display_name": "Python 2",
   "language": "python",
   "name": "python2"
  },
  "language_info": {
   "codemirror_mode": {
    "name": "ipython",
    "version": 2
   },
   "file_extension": ".py",
   "mimetype": "text/x-python",
   "name": "python",
   "nbconvert_exporter": "python",
   "pygments_lexer": "ipython2",
   "version": "2.7.10"
  }
 },
 "nbformat": 4,
 "nbformat_minor": 0
}
