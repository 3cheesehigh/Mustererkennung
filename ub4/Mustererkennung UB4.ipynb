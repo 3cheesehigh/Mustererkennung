{
 "cells": [
  {
   "cell_type": "markdown",
   "metadata": {},
   "source": [
    "# Mustererkennung Übung 3\n",
    "### Benjamin Kiesling, Peewee Manzer "
   ]
  },
  {
   "cell_type": "markdown",
   "metadata": {},
   "source": [
    "## 1. Aufgabe (6 Punkte):\n",
    "Gegeben seien folgende Punkte:\n",
    "$(1,1),(2,1),(4,1),(5,1)$"
   ]
  },
  {
   "cell_type": "markdown",
   "metadata": {},
   "source": [
    "###### a. (1 Punkt) \n",
    "Bilden Sie den Mittelwert der μ gegebenen Punkte.\n"
   ]
  },
  {
   "cell_type": "markdown",
   "metadata": {},
   "source": [
    "###### b. (1 Punkt) \n",
    "Berechnen Sie die Kovarianzmatrix Cder gegebenen Punkte.\n"
   ]
  },
  {
   "cell_type": "markdown",
   "metadata": {},
   "source": [
    "###### c. (1 Punkt)\n",
    "Berechnen Sie die Eigenwerte λ1 und λ2 , indem Sie die Gleichung det(C− Iλ) = 0 lösen.\n",
    "(I ist die Identitätsmatrix). Geben Sie die einzelnen Schritte der Berechnung an.\n",
    "\n"
   ]
  },
  {
   "cell_type": "markdown",
   "metadata": {},
   "source": [
    "###### d. (1 Punkt)\n",
    "Geben Sie das durch das durch die Gleichung (C− Iλ) ∙ x = 0 definierte →\n",
    "Gleichungssystem an und berechnen Sie die Eigenvektoren x1 und x2 . Sie müssen das Ergebnis\n",
    "eventuell noch normieren."
   ]
  },
  {
   "cell_type": "markdown",
   "metadata": {},
   "source": [
    "###### e. (1 Punkt)\n",
    "Geben Sie die Transformationsmatrix T an, um die Punkte in das durch die\n",
    "Eigenvektoren aufgespannte Koordinatensystem zu transformieren. Transformieren Sie die\n",
    "gegebenen Punkte."
   ]
  },
  {
   "cell_type": "markdown",
   "metadata": {},
   "source": [
    "###### f. (1 Punkt)\n",
    "Geben Sie die Matrix M = T ∙C∙ TT an. ( TT ist T transponiert)"
   ]
  },
  {
   "cell_type": "markdown",
   "metadata": {},
   "source": [
    "## 2. Aufgabe (4 Punkte):\n",
    "Laden Sie die Datei mouse.csv aus dem Resources Ordner der KVVSeite\n",
    "herunter. Jede Zeile dieser\n",
    "Datei ist ein Datensatz, der einen zweidimensionalen Punkt beschreibt: x, y, Klasse ."
   ]
  },
  {
   "cell_type": "markdown",
   "metadata": {},
   "source": [
    "###### a. (1 Punkt)\n",
    "Clustern Sie den Datensatz mit kmeans\n",
    "in 3 Cluster. Verwenden Sie als initiale Zentren\n",
    "der Cluster die Punkte (7,4),(8,6) und (9,4) . Verwenden Sie als Abstandsmaß die euklidische\n",
    "Distanz . Plotten Sie die Clusterzentren und zugeordnete Datenpunkte für die ersten 12 Iterationen\n",
    "(12 Subplots in einem Plot)"
   ]
  },
  {
   "cell_type": "markdown",
   "metadata": {},
   "source": [
    "###### b. (1 Punkt)\n",
    "Clustern Sie den Datensatz mit kmeans\n",
    "in 3 Cluster. Verwenden Sie als Abstandsmaß\n",
    "die Wahrscheinlichkeitsdichtefunktion (pdf) der Normalverteilung der jeweiligen Cluster.\n",
    "Wählen Sie die initialen Mittelwerte der Cluster zufällig und als initiale Kovarianzmatrizen die\n",
    "Identitätsmatrix . Plotten Sie die Clusterzentren (Mittelwerte) und zugeordnete Datenpunkte für die\n",
    "ersten 12 Iterationen (12 Subplots in einem Plot)"
   ]
  },
  {
   "cell_type": "markdown",
   "metadata": {},
   "source": [
    "###### c. (1 Punkt)\n",
    "Wie b) aber mit (7,4),(8,6) und (9,4) als initiale Clusterzentren."
   ]
  },
  {
   "cell_type": "markdown",
   "metadata": {},
   "source": [
    "###### d. (1 Punkt)\n",
    "Wie b) aber mit k=30. Die Clusterzentren (Mittelwerte) und Kovarianzmatrizen sollen\n",
    "dabei gewichtetet über allen Datenpunkten berechnet werden (also nicht nur über den Punkten,\n",
    "die den jeweiligen Clustern zugeordnet wurden). Als Gewichte verwenden Sie dabei den Wert der\n",
    "jeweiligen pdf. ( https://en.wikipedia.org/wiki/Weighted_arithmetic_mean ). Für diese Aufgabe\n",
    "müssen Sie die Datenpunkte nicht einem bestimmten Cluster zuordnen."
   ]
  }
 ],
 "metadata": {
  "kernelspec": {
   "display_name": "Python 2",
   "language": "python",
   "name": "python2"
  },
  "language_info": {
   "codemirror_mode": {
    "name": "ipython",
    "version": 2
   },
   "file_extension": ".py",
   "mimetype": "text/x-python",
   "name": "python",
   "nbconvert_exporter": "python",
   "pygments_lexer": "ipython2",
   "version": "2.7.10"
  }
 },
 "nbformat": 4,
 "nbformat_minor": 0
}
