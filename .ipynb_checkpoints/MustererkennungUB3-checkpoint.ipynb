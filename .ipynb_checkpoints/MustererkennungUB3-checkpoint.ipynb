{
 "cells": [
  {
   "cell_type": "markdown",
   "metadata": {},
   "source": [
    "## 1. Aufgabe (5 Punkte):\n",
    "Laden Sie die Dateien chickwts_testing.csv und chickwts_training.csv aus dem Resources Ordner der\n",
    "KVVSeite\n",
    "herunter. Jede Zeile dieser Dateien ist ein Datensatz über ein Huhn mit folgenden Werten: id,\n",
    "Gewicht, Futterart . (Die Futterart ist von 0 bis 5 indiziert und entspricht: 0=horsebean, 1=linseed,\n",
    "2=soybean, 3=sunflower, 4=meatmeal, 5=casein)"
   ]
  },
  {
   "cell_type": "markdown",
   "metadata": {},
   "source": [
    "###### a. (2 Punkte)\n",
    "Berechnen Sie den Erwartungswert und die Varianz über den Gewichten jeweils für\n",
    "alle 6 Futterklassen sowie die AprioriWahrscheinlichkeit\n",
    "für jede der 6 Futterklassen anhand\n",
    "der Werte aus chickwts_training.csv ."
   ]
  },
  {
   "cell_type": "code",
   "execution_count": null,
   "metadata": {
    "collapsed": true
   },
   "outputs": [],
   "source": [
    "##TODO AUFG 1 "
   ]
  },
  {
   "cell_type": "markdown",
   "metadata": {},
   "source": [
    "###### b. (1 Punkte)\n",
    "Plotten Sie die AposterioriWahrscheinlichkeitsdichtefunktion\n",
    "p(Futterklasse | Gewicht)\n",
    "für alle 6 Futterklassen zusammen in einem Diagramm. Verwenden Sie dabei die Werte aus a)..."
   ]
  },
  {
   "cell_type": "code",
   "execution_count": null,
   "metadata": {
    "collapsed": true
   },
   "outputs": [],
   "source": [
    "##TODO AUFG 2"
   ]
  },
  {
   "cell_type": "markdown",
   "metadata": {},
   "source": [
    "###### c. (2 Punkte)\n",
    "Klassifizieren Sie die Hühner in chickwts_testing.csv mit einem Naive Bayes\n",
    "Klassifikator anhand ihres Gewichtes in die 6 Futterklassen. Verwenden Sie dabei die Werte bzw.\n",
    "Wahrscheinlichkeitsdichtefunktionen aus a) und b). Geben Sie die die Konfusionsmatrix und\n",
    "Klassifikationsgüte aus."
   ]
  },
  {
   "cell_type": "code",
   "execution_count": null,
   "metadata": {
    "collapsed": true
   },
   "outputs": [],
   "source": [
    "##TODO AUFG 3"
   ]
  },
  {
   "cell_type": "markdown",
   "metadata": {},
   "source": [
    "## 2. Aufgabe (5 Punkte):"
   ]
  },
  {
   "cell_type": "markdown",
   "metadata": {},
   "source": [
    "###### a.  (1 Punkt)\n",
    "Erzeugen Sie drei Klassen von jeweils 100 zweidimensionalen normalverteilten Punkten\n",
    "mit folgenden Mittelwerten und Kovarianzmatrizen:\n",
    "Plotten Sie alle Punkte in einem Diagramm.\n",
    "<img src=\"formeln.png\">\n"
   ]
  },
  {
   "cell_type": "code",
   "execution_count": null,
   "metadata": {
    "collapsed": true
   },
   "outputs": [],
   "source": [
    "##TODO AUFG a"
   ]
  },
  {
   "cell_type": "markdown",
   "metadata": {},
   "source": [
    "###### b. (2 Punkte)\n",
    "Berechnen Sie die tatsächliche Kovarianzmatrix sowie die dazugehörige\n",
    "Korrelationsmatrix (PearsonKorrelationkoeffizienten)\n",
    "für jede der von Ihnen in a) erzeugten\n",
    "Klassen."
   ]
  },
  {
   "cell_type": "code",
   "execution_count": null,
   "metadata": {
    "collapsed": true
   },
   "outputs": [],
   "source": [
    "##TODO AUFG b"
   ]
  },
  {
   "cell_type": "markdown",
   "metadata": {},
   "source": [
    "###### c. (2 Punkte) Generieren sie 1000 zufällige Geraden durch den Ursprung (definiert durch\n",
    "Einheitsvektoren). Berechnen Sie für jede dieser Geraden ui den Wert\n",
    "$$ S(U_i) = \\frac{Abstand der auf u_i projizierten Mittelwerte}{Summe der auf u_i projizierten Varianzen}$$\n",
    "jeweils zwischen den Klassen 1 und 2, 1 und 3 , sowie 2 und 3. Plotten sie die 3 Geraden mit\n",
    "dem jeweils größten S(ui) zusammen mit den Datenpunkten in einem Diagram.\n",
    "\n"
   ]
  },
  {
   "cell_type": "code",
   "execution_count": null,
   "metadata": {
    "collapsed": true
   },
   "outputs": [],
   "source": [
    "##TODO AUFG c"
   ]
  }
 ],
 "metadata": {
  "kernelspec": {
   "display_name": "Python 2",
   "language": "python",
   "name": "python2"
  },
  "language_info": {
   "codemirror_mode": {
    "name": "ipython",
    "version": 2
   },
   "file_extension": ".py",
   "mimetype": "text/x-python",
   "name": "python",
   "nbconvert_exporter": "python",
   "pygments_lexer": "ipython2",
   "version": "2.7.10"
  }
 },
 "nbformat": 4,
 "nbformat_minor": 0
}
